{
 "cells": [
  {
   "cell_type": "code",
   "execution_count": null,
   "id": "bfc16c7f",
   "metadata": {},
   "outputs": [],
   "source": [
    "import os\n",
    "from dotenv import load_dotenv\n",
    "load_dotenv()\n",
    "\n",
    "HF_TOKEN = os.getenv(\"HF_TOKEN\")\n",
    "GROQ_API_KEY = os.getenv(\"GROQ_API_KEY\")\n",
    "\n"
   ]
  },
  {
   "cell_type": "code",
   "execution_count": null,
   "id": "5e12e294",
   "metadata": {},
   "outputs": [
    {
     "data": {
      "text/plain": [
       "ChatGroq(client=<groq.resources.chat.completions.Completions object at 0x000002C79C6CD6D0>, async_client=<groq.resources.chat.completions.AsyncCompletions object at 0x000002C787D8A810>, model_name='gemma2-9b-it', model_kwargs={}, groq_api_key=SecretStr('**********'), max_tokens=512)"
      ]
     },
     "execution_count": 67,
     "metadata": {},
     "output_type": "execute_result"
    }
   ],
   "source": [
    "from langchain_groq import ChatGroq  \n",
    "llm = ChatGroq(\n",
    "    model=\"gemma2-9b-it\",  \n",
    "    temperature=0.7,\n",
    "    max_tokens=512\n",
    ")\n",
    "llm"
   ]
  },
  {
   "cell_type": "code",
   "execution_count": 46,
   "id": "4df14197",
   "metadata": {},
   "outputs": [
    {
     "data": {
      "text/plain": [
       "HuggingFaceEmbeddings(model_name='sentence-transformers/all-MiniLM-L6-v2', cache_folder=None, model_kwargs={}, encode_kwargs={}, query_encode_kwargs={}, multi_process=False, show_progress=False)"
      ]
     },
     "execution_count": 46,
     "metadata": {},
     "output_type": "execute_result"
    }
   ],
   "source": [
    "from langchain_huggingface import HuggingFaceEmbeddings\n",
    "embeddings = HuggingFaceEmbeddings(model_name=\"sentence-transformers/all-MiniLM-L6-v2\")\n",
    "embeddings\n",
    "    "
   ]
  },
  {
   "cell_type": "code",
   "execution_count": null,
   "id": "3a34fb9f",
   "metadata": {},
   "outputs": [],
   "source": [
    "from langchain_community.document_loaders import PyPDFLoader, PyPDFDirectoryLoader\n",
    "# Load a single PDF file\n",
    "loader = PyPDFLoader(\"MedicineBook.pdf\")\n",
    "documents = loader.load()\n",
    "\n"
   ]
  },
  {
   "cell_type": "code",
   "execution_count": null,
   "id": "4c5caa5c",
   "metadata": {},
   "outputs": [],
   "source": [
    "from langchain_text_splitters import RecursiveCharacterTextSplitter    \n",
    "text_splitter = RecursiveCharacterTextSplitter(chunk_size=1000, chunk_overlap=200)\n",
    "texts = text_splitter.split_documents(documents)\n",
    "texts"
   ]
  },
  {
   "cell_type": "code",
   "execution_count": 50,
   "id": "02706e33",
   "metadata": {},
   "outputs": [
    {
     "data": {
      "text/plain": [
       "VectorStoreRetriever(tags=['FAISS', 'HuggingFaceEmbeddings'], vectorstore=<langchain_community.vectorstores.faiss.FAISS object at 0x000002C84ACE81D0>, search_kwargs={'k': 2})"
      ]
     },
     "execution_count": 50,
     "metadata": {},
     "output_type": "execute_result"
    }
   ],
   "source": [
    "from langchain.vectorstores import FAISS\n",
    "vectorstore = FAISS.from_documents(texts, embeddings)\n",
    "retriever = vectorstore.as_retriever(search_kwargs={\"k\": 2})\n",
    "retriever"
   ]
  },
  {
   "cell_type": "code",
   "execution_count": null,
   "id": "9e6d6a12",
   "metadata": {},
   "outputs": [
    {
     "name": "stdout",
     "output_type": "stream",
     "text": [
      "{'input': 'What is the role of the liver in the human body?', 'context': [Document(id='46cf721c-03ec-454f-bc3c-eb50c675bfaf', metadata={'producer': 'PDFlib+PDI 6.0.3 (SunOS)', 'creator': 'Adobe Acrobat 6.0', 'creationdate': '2006-10-16T20:19:33+02:00', 'moddate': '2006-10-16T22:03:45+02:00', 'source': 'MedicineBook.pdf', 'total_pages': 4505, 'page': 2271, 'page_label': '2242'}, page_content='system. Damage to this system is called biliary disease.\\nThe liver receives blood that comes directly from\\nthe intestines. At any given time the liver contains\\nabout 13% of the blood circulating in the body. This\\nblood is rich in nutruents (food, vitamins, andminer-\\nals) that the body needs to function. Some of the most\\nimportant functions of the liver are to process these\\nnutrients.\\nImportant functions of the liver include:\\n/C15manufacturing and regulating the production of pro-\\nteins. The most important proteins made in the liver\\nare albumin, which helps maintain blood volume,\\nand clotting factors to help regulate blood clotting.\\n/C15making and storing fatty acids and cholesterol.\\n/C15forming and releasing bile\\n/C15processing and storing sugars in the form of glyco-\\ngen, which can then be re-converted into energy\\n/C15Storing iron, an important element in blood\\nformation\\n/C15Breaking down (detoxifying) alcohol, drugs, and\\nenvironmental poisons so that they can be removed'), Document(id='ac1f4e12-daf1-4813-8f08-ffc1dca4ca55', metadata={'producer': 'PDFlib+PDI 6.0.3 (SunOS)', 'creator': 'Adobe Acrobat 6.0', 'creationdate': '2006-10-16T20:19:33+02:00', 'moddate': '2006-10-16T22:03:45+02:00', 'source': 'MedicineBook.pdf', 'total_pages': 4505, 'page': 2271, 'page_label': '2242'}, page_content='Liver disease\\nDefinition\\nLiver disease is a general term for any damage that\\nreduces the functioning of the liver.\\nDescription\\nThe liver is a large, solid organ located in the\\nupper right-hand side of the abdomen. Most of the\\nliver lies under the rib cage, which helps protect it from\\nphysical injury. The liver is made up of two main lobes\\nand two minor lobes and has a total weight in adults of\\nabout 3.5 lb (1.6 kg).\\nWithin the liver are tiny ducts (tubes) that collect\\nbile, a product secreted by the liver. Bile is stored in to\\nthe gall bladder and then released into the intestines\\nafter meals to help in the digestion of fats and the\\nabsorption of certainvitamins.T h i ss y s t e mo fb i l ep r o -\\nduction by the liver, transport through the bile ducts,\\nand storage in the gall bladder is called the biliary\\nsystem. Damage to this system is called biliary disease.\\nThe liver receives blood that comes directly from\\nthe intestines. At any given time the liver contains')], 'answer': 'The liver has many important roles in the body. It:\\n\\n* **Processes nutrients:** It takes nutrients from the blood coming from the intestines and uses them to make proteins, store energy, and create other essential substances.\\n* **Manufactures proteins:**  It makes proteins like albumin (which helps maintain blood volume) and clotting factors (which help blood clot).\\n* **Stores and releases energy:** It stores sugars as glycogen and can release it back into the blood when energy is needed.\\n* **Stores iron:** It stores iron, which is crucial for making blood.\\n* **Detoxifies the body:** It breaks down harmful substances like alcohol, drugs, and environmental toxins.\\n* **Produces bile:** It makes bile, which helps digest fats and absorb vitamins. \\n\\n\\nLet me know if you have any other questions. \\n\\n'}\n"
     ]
    }
   ],
   "source": [
    "from langchain.chains import create_retrieval_chain\n",
    "from langchain.chains.combine_documents import create_stuff_documents_chain\n",
    "from langchain_core.prompts import ChatPromptTemplate\n",
    "\n",
    "# Define the system prompt\n",
    "system_prompt = (\n",
    "    \"You are a doctor speaking to a patient. \"\n",
    "    \"Use the following context to answer the question. \"\n",
    "    \"If you don't know the answer, say you don't know.\\n\\n\"\n",
    "    \"{context}\"\n",
    ")\n",
    "\n",
    "prompt = ChatPromptTemplate.from_messages([\n",
    "    (\"system\", system_prompt),\n",
    "    (\"human\", \"{input}\")\n",
    "])\n",
    "\n",
    "document_chain = create_stuff_documents_chain(llm, prompt)\n",
    "\n",
    "retrieval_chain = create_retrieval_chain(retriever, document_chain)\n",
    "\n",
    "\n"
   ]
  },
  {
   "cell_type": "code",
   "execution_count": 73,
   "id": "b3cecfa8",
   "metadata": {},
   "outputs": [],
   "source": [
    "from langchain_core.runnables.history import RunnableWithMessageHistory\n",
    "from langchain_core.chat_history import InMemoryChatMessageHistory\n",
    "\n",
    "# Dictionary to store chat histories for different sessions\n",
    "store = {}\n",
    "\n",
    "# Function to retrieve or create chat history for a session\n",
    "def get_session_history(session_id: str):\n",
    "    if session_id not in store:\n",
    "        store[session_id] = InMemoryChatMessageHistory()\n",
    "    return store[session_id]\n",
    "\n",
    "\n"
   ]
  },
  {
   "cell_type": "code",
   "execution_count": 92,
   "id": "7a45acfc",
   "metadata": {},
   "outputs": [],
   "source": [
    "from langchain_core.runnables import Runnable\n",
    "\n",
    "class WrappedRetrievalChain(Runnable):\n",
    "    def __init__(self, base_chain):\n",
    "        self.base_chain = base_chain\n",
    "\n",
    "    def invoke(self, input, config=None):\n",
    "        result = self.base_chain.invoke(input, config)\n",
    "        return {\"result\": result}  # Adjust the key as needed\n"
   ]
  },
  {
   "cell_type": "code",
   "execution_count": null,
   "id": "0fb70df8",
   "metadata": {},
   "outputs": [],
   "source": []
  },
  {
   "cell_type": "code",
   "execution_count": 98,
   "id": "8c851e60",
   "metadata": {},
   "outputs": [
    {
     "name": "stderr",
     "output_type": "stream",
     "text": [
      "Error in RootListenersTracer.on_chain_end callback: KeyError('result')\n"
     ]
    },
    {
     "name": "stdout",
     "output_type": "stream",
     "text": [
      "{'result': {'input': 'What are the symptoms of diabetes?', 'chat_history': [], 'context': [Document(id='42e8a616-771d-4636-b398-60a12a2b4b13', metadata={'producer': 'PDFlib+PDI 6.0.3 (SunOS)', 'creator': 'Adobe Acrobat 6.0', 'creationdate': '2006-10-16T20:19:33+02:00', 'moddate': '2006-10-16T22:03:45+02:00', 'source': 'MedicineBook.pdf', 'total_pages': 4505, 'page': 1185, 'page_label': '1156'}, page_content='in overweight adults over the age of 40. The classic\\nsymptoms include feeling tired and sick, frequent\\nurination, excessive thirst, excessive hunger, and\\nweight loss.\\nKetoacidosis,aconditiondueto starvationoruncon-\\ntrolled diabetes, is common in Type I diabetes. Ketones\\nare acid compounds that form in the blood when the\\nbody breaks down fats and proteins. Symptoms include\\nabdominal pain, vomiting, rapid breathing, extreme\\nlethargy, and drowsiness. Patients with ketoacidosis will\\nalso have a sweet breath odor. Left untreated, this condi-\\ntion can lead to coma and death.\\nWith Type II diabetes, the condition may not\\nbecome evident until the patient presents for medical\\ntreatment for some other condition. A patient may\\nhave heart disease, chronic infections of the gums\\n1156 GALE ENCYCLOPEDIA OF MEDICINE\\nDiabetes mellitus'), Document(id='2af826be-96ba-4fed-a7b3-a2e887b9bc54', metadata={'producer': 'PDFlib+PDI 6.0.3 (SunOS)', 'creator': 'Adobe Acrobat 6.0', 'creationdate': '2006-10-16T20:19:33+02:00', 'moddate': '2006-10-16T22:03:45+02:00', 'source': 'MedicineBook.pdf', 'total_pages': 4505, 'page': 1185, 'page_label': '1156'}, page_content='diabetes play a role.\\nIn Type II diabetes, the pancreas may produce\\nenough insulin, however, cells have become resistant to\\nthe insulin produced and it may not work as effectively.\\nSymptoms of Type II diabetes can begin so gradually\\nthat a person may not know that he or she has it. Early\\nsigns are lethargy, extreme thirst, and frequent urina-\\ntion. Other symptoms may include sudden weight loss,\\nslow wound healing, urinary tract infections, gum dis-\\nease, or blurred vision. It is not unusual for Type II\\ndiabetes to be detected while a patient is seeing a doctor\\nabout another health concern that is actually being\\ncaused by the yet undiagnosed diabetes.\\nIndividuals who are at high risk of developing\\nType II diabetes mellitus include people who:\\n/C15are obese (more than 20% above their ideal body\\nweight)\\n/C15have a relative with diabetes mellitus\\n/C15belong to a high-risk ethnic population (African-\\nAmerican, Native American, Hispanic, or Native\\nHawaiian)')], 'answer': \"The text lists several symptoms of diabetes.  \\n\\n**For both Type I and Type II diabetes:**\\n\\n* **Frequent urination**\\n* **Excessive thirst**\\n* **Excessive hunger**\\n\\n**For Type I diabetes:**\\n\\n\\n* **Feeling tired and sick**\\n* **Ketoacidosis symptoms:** abdominal pain, vomiting, rapid breathing, extreme lethargy, drowsiness, and sweet breath odor \\n\\n**For Type II diabetes:**\\n\\n* **Lethargy**\\n* **Sudden weight loss**\\n* **Slow wound healing**\\n* **Urinary tract infections**\\n* **Gum disease**\\n* **Blurred vision** \\n\\n\\nIt's important to note that Type II diabetes can develop gradually, and some people may not experience symptoms until the condition is more advanced. \\n\\n\"}}\n"
     ]
    },
    {
     "name": "stderr",
     "output_type": "stream",
     "text": [
      "Error in RootListenersTracer.on_chain_end callback: KeyError('result')\n"
     ]
    },
    {
     "name": "stdout",
     "output_type": "stream",
     "text": [
      "{'result': {'input': 'What was my question?', 'chat_history': [], 'context': [Document(id='c46e402e-235a-458c-95a7-85d55973db87', metadata={'producer': 'PDFlib+PDI 6.0.3 (SunOS)', 'creator': 'Adobe Acrobat 6.0', 'creationdate': '2006-10-16T20:19:33+02:00', 'moddate': '2006-10-16T22:03:45+02:00', 'source': 'MedicineBook.pdf', 'total_pages': 4505, 'page': 1603, 'page_label': '1574'}, page_content='/C15providing referrals to social service agencies and\\ncounseling services that are LGBT-friendly\\n/C15taking educational courses that are sensitive to the\\nneeds of LGBT patients\\n/C15treating the families of LGBT patients as one would\\nthe families of heterosexual patients\\n/C15maintaining the strictest code of confidentiality\\n/C15developing and maintaining health care centers or\\nclinics that address LGBT-specific needs\\n/C15asking non-threatening questions to determine if a\\nperson is at risk of an STD\\n/C15educating patients of risk factors associated with\\nSTDs, possible vaccines, and treatments available\\n/C15providing services to individuals in the process of\\ndisclosing their sexual identity and, if applicable,\\ntheir families\\nResources\\nPERIODICALS\\nDuLong, Jessica. ‘‘Snuffing Out the Butts: Campaigns to\\nConvince Gay Men and Lesbians to Ditch Cigarettes\\nTey to Cut Through a Long-held Addiction.’’The\\nAdvocate March 16, 2004: 30-32.\\nORGANIZATIONS'), Document(id='7a243e1a-33bb-4f4c-affe-b646ec5fdd1a', metadata={'producer': 'PDFlib+PDI 6.0.3 (SunOS)', 'creator': 'Adobe Acrobat 6.0', 'creationdate': '2006-10-16T20:19:33+02:00', 'moddate': '2006-10-16T22:03:45+02:00', 'source': 'MedicineBook.pdf', 'total_pages': 4505, 'page': 3611, 'page_label': '3582'}, page_content='/C15Have you ever tried to Cut down on your substance\\nuse?\\n/C15Have you ever been Annoyed by people trying to talk\\nto you about your substance use?\\n/C15Do you ever feel Guilty about your substance use?\\n/C15Do you ever need an Eye opener (use of the substance\\nfirst thing in the morning) in order to start your day?\\nA ‘‘yes’’ answer to two or more of these questions\\nis an indication that the individual should be referred\\nfor more thorough work-up for substance dependency\\nor abuse.\\nIn addition to CAGE, other screening question-\\nnaires are available. Some are designed for particular\\npopulation groups such as pregnant women, and\\nothers are designed to more thoroughly assess the\\nseverity of substance dependence. These\\nquestionnaires, known by their acronyms, include\\nAUDIT, HSS, HSQ, PRIME-MD, ACE, TWEAK,\\ns-MAST, and SADD. There is some variability among\\nquestionnaires in terms of how accurately and com-\\nprehensively they can identify individuals as substance\\ndependent.')], 'answer': \"It seems like you're asking me about how to identify and support LGBT patients.  \\n\\nBased on the information you provided, here are some ways to be a more inclusive and supportive doctor for LGBT patients:\\n\\n* **Provide referrals to LGBT-friendly resources:** This could include social services, counseling services, and support groups. \\n* **Educate yourself:** Take courses that are sensitive to the needs of LGBT patients. \\n* **Treat families with respect:** Treat the families of LGBT patients the same way you would treat the families of heterosexual patients. \\n* **Maintain confidentiality:**  This is crucial for all patients, but especially for those who may be struggling with their sexual orientation or gender identity.\\n* **Consider specialized care:** Develop or support health care centers or clinics that address LGBT-specific needs. \\n\\nIt is important to create a safe and welcoming environment for all patients.\\n\\nRemember, it's also important to ask non-threatening questions to determine if a patient is at risk for STDs and to educate them about risk factors, vaccines, and available treatments. \\n\\n\\n\\nLet me know if you have any other questions.  \\n\\n\"}}\n"
     ]
    }
   ],
   "source": [
    "# Wrap the retrieval_chain if necessary\n",
    "wrapped_chain = WrappedRetrievalChain(retrieval_chain)\n",
    "\n",
    "# Initialize chat_chain with correct output_messages_key\n",
    "chat_chain = RunnableWithMessageHistory(\n",
    "    wrapped_chain,\n",
    "    get_session_history,\n",
    "    input_messages_key=\"input\",\n",
    "    output_messages_key=\"result\",  # Ensure this matches the key in the output dictionary\n",
    "    history_messages_key=\"chat_history\"\n",
    ")\n",
    "\n",
    "# Define your query\n",
    "query = \"What are the symptoms of diabetes?\"\n",
    "\n",
    "# Invoke the chat_chain with the query and session ID\n",
    "response = chat_chain.invoke(\n",
    "    {\"input\": query},\n",
    "    config={\"configurable\": {\"session_id\": \"session-1\"}}\n",
    ")\n",
    "print(response)\n",
    "\n",
    "# Follow-up question\n",
    "follow_up_query = \"What was my question?\"\n",
    "response = chat_chain.invoke(\n",
    "    {\"input\": follow_up_query},\n",
    "    config={\"configurable\": {\"session_id\": \"session-1\"}}\n",
    ")\n",
    "print(response)\n"
   ]
  },
  {
   "cell_type": "code",
   "execution_count": null,
   "id": "917e21f4",
   "metadata": {},
   "outputs": [],
   "source": []
  }
 ],
 "metadata": {
  "kernelspec": {
   "display_name": "Python 3",
   "language": "python",
   "name": "python3"
  },
  "language_info": {
   "codemirror_mode": {
    "name": "ipython",
    "version": 3
   },
   "file_extension": ".py",
   "mimetype": "text/x-python",
   "name": "python",
   "nbconvert_exporter": "python",
   "pygments_lexer": "ipython3",
   "version": "3.11.11"
  }
 },
 "nbformat": 4,
 "nbformat_minor": 5
}
